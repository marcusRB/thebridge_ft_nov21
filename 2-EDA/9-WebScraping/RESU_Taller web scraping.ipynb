{
 "cells": [
  {
   "cell_type": "markdown",
   "metadata": {},
   "source": [
    "Vamos a ver como hacer un web scraping con selenium"
   ]
  },
  {
   "cell_type": "markdown",
   "metadata": {},
   "source": [
    "Lo primero que tenemos que hacer es activar el manejador para eso tenemos que tener instalado el chromedriver"
   ]
  },
  {
   "cell_type": "code",
   "execution_count": 1,
   "metadata": {
    "scrolled": true
   },
   "outputs": [],
   "source": [
    "#!pip install selenium"
   ]
  },
  {
   "cell_type": "code",
   "execution_count": 40,
   "metadata": {
    "ExecuteTime": {
     "end_time": "2021-02-26T12:16:59.303652Z",
     "start_time": "2021-02-26T12:16:59.300657Z"
    }
   },
   "outputs": [],
   "source": [
    "import pandas as pd\n",
    "from selenium import webdriver\n"
   ]
  },
  {
   "cell_type": "code",
   "execution_count": 106,
   "metadata": {
    "ExecuteTime": {
     "end_time": "2021-02-26T12:17:06.046221Z",
     "start_time": "2021-02-26T12:17:02.644470Z"
    }
   },
   "outputs": [],
   "source": [
    "chrome_driver_path = r\"C:\\Users\\arana\\Downloads\\chromedriver_win32 (2)\\chromedriver.exe\"\n",
    "\n",
    "driver = webdriver.Chrome(executable_path = chrome_driver_path)"
   ]
  },
  {
   "cell_type": "markdown",
   "metadata": {},
   "source": [
    "El objeto driver es con el que trabajaremos a partir de ahora aqui le indicaremos que pagina queremos scrapear"
   ]
  },
  {
   "cell_type": "code",
   "execution_count": 107,
   "metadata": {
    "ExecuteTime": {
     "end_time": "2021-02-26T10:22:46.333679Z",
     "start_time": "2021-02-26T10:22:45.178780Z"
    }
   },
   "outputs": [],
   "source": [
    "url = \"https://www.filmaffinity.com\"\n",
    "driver.get(url)"
   ]
  },
  {
   "cell_type": "markdown",
   "metadata": {},
   "source": [
    "Nos hemos encontrado con un pop-up que nos queremos saltar.\n",
    "- Buscamos el botón\n",
    "- Hacemos click en el botón\n",
    "\n",
    "selenium nos permite buscar elementos por etiqueteas de html: https://selenium-python.readthedocs.io/locating-elements.html\n",
    "\n",
    "CUIDADO! Los metodos de busqueda de elementos estan \"duplicados\". Tenemos *find_element_by_tag_name* y *find_elements_by_tag_name* el primero nos devolverá el primer elemento que encuentre (aunque haya más), el segundo nos devolverá una lista con todos los elementos que encuentre (aunque solo sea uno)"
   ]
  },
  {
   "cell_type": "code",
   "execution_count": 108,
   "metadata": {
    "ExecuteTime": {
     "end_time": "2021-02-26T10:22:48.546287Z",
     "start_time": "2021-02-26T10:22:48.489040Z"
    },
    "scrolled": true
   },
   "outputs": [],
   "source": [
    "elements_by_tag = driver.find_elements_by_tag_name('button')"
   ]
  },
  {
   "cell_type": "code",
   "execution_count": 6,
   "metadata": {},
   "outputs": [
    {
     "data": {
      "text/plain": [
       "[<selenium.webdriver.remote.webelement.WebElement (session=\"c201e8cb7eafe1ca1113fc32bad6dcbd\", element=\"f8f81090-4672-40db-9297-e2552ca38ea3\")>]"
      ]
     },
     "execution_count": 6,
     "metadata": {},
     "output_type": "execute_result"
    }
   ],
   "source": [
    "driver.find_elements_by_class_name('css-v43ltw')"
   ]
  },
  {
   "cell_type": "code",
   "execution_count": 7,
   "metadata": {},
   "outputs": [
    {
     "data": {
      "text/plain": [
       "[<selenium.webdriver.remote.webelement.WebElement (session=\"c201e8cb7eafe1ca1113fc32bad6dcbd\", element=\"f8f81090-4672-40db-9297-e2552ca38ea3\")>]"
      ]
     },
     "execution_count": 7,
     "metadata": {},
     "output_type": "execute_result"
    }
   ],
   "source": [
    "driver.find_elements_by_xpath('/html/body/div[1]/div/div/div/div[2]/div/button[2]')"
   ]
  },
  {
   "cell_type": "markdown",
   "metadata": {},
   "source": [
    "Una vez tenemos los elementos podemos hacer varias cosas con ellos"
   ]
  },
  {
   "cell_type": "markdown",
   "metadata": {},
   "source": [
    "Podemos extraer todos los atributos que tenga"
   ]
  },
  {
   "cell_type": "code",
   "execution_count": 8,
   "metadata": {
    "ExecuteTime": {
     "end_time": "2021-02-26T10:22:51.542538Z",
     "start_time": "2021-02-26T10:22:51.508077Z"
    }
   },
   "outputs": [
    {
     "data": {
      "text/plain": [
       "'link'"
      ]
     },
     "execution_count": 8,
     "metadata": {},
     "output_type": "execute_result"
    }
   ],
   "source": [
    "elements_by_tag[0].get_attribute('mode')"
   ]
  },
  {
   "cell_type": "markdown",
   "metadata": {},
   "source": [
    "Podemos evaluar que tipo de elemento es (tag)"
   ]
  },
  {
   "cell_type": "code",
   "execution_count": 9,
   "metadata": {
    "ExecuteTime": {
     "end_time": "2021-02-26T10:22:53.325430Z",
     "start_time": "2021-02-26T10:22:53.306520Z"
    }
   },
   "outputs": [
    {
     "data": {
      "text/plain": [
       "'button'"
      ]
     },
     "execution_count": 9,
     "metadata": {},
     "output_type": "execute_result"
    }
   ],
   "source": [
    "elements_by_tag[0].tag_name"
   ]
  },
  {
   "cell_type": "markdown",
   "metadata": {},
   "source": [
    "Podemos sacar el valor que tiene (el texto)"
   ]
  },
  {
   "cell_type": "code",
   "execution_count": 10,
   "metadata": {
    "ExecuteTime": {
     "end_time": "2021-02-26T10:22:54.583190Z",
     "start_time": "2021-02-26T10:22:54.553596Z"
    }
   },
   "outputs": [
    {
     "data": {
      "text/plain": [
       "'socios'"
      ]
     },
     "execution_count": 10,
     "metadata": {},
     "output_type": "execute_result"
    }
   ],
   "source": [
    "elements_by_tag[0].text"
   ]
  },
  {
   "cell_type": "markdown",
   "metadata": {},
   "source": [
    "Incluso podemos guardar una imagen del elemento"
   ]
  },
  {
   "cell_type": "code",
   "execution_count": 11,
   "metadata": {
    "ExecuteTime": {
     "end_time": "2021-02-26T10:24:41.830050Z",
     "start_time": "2021-02-26T10:24:41.510086Z"
    }
   },
   "outputs": [
    {
     "data": {
      "text/plain": [
       "True"
      ]
     },
     "execution_count": 11,
     "metadata": {},
     "output_type": "execute_result"
    }
   ],
   "source": [
    "num = '1'\n",
    "elements_by_tag[0].screenshot('mi_pantallazo' + num + '.png')"
   ]
  },
  {
   "cell_type": "markdown",
   "metadata": {
    "ExecuteTime": {
     "end_time": "2021-02-25T09:56:21.322475Z",
     "start_time": "2021-02-25T09:56:21.318715Z"
    }
   },
   "source": [
    "Evaluemos que elementos hemos encontrado por el tag"
   ]
  },
  {
   "cell_type": "code",
   "execution_count": 12,
   "metadata": {
    "ExecuteTime": {
     "end_time": "2021-02-25T10:40:47.561469Z",
     "start_time": "2021-02-25T10:40:46.812684Z"
    }
   },
   "outputs": [
    {
     "name": "stdout",
     "output_type": "stream",
     "text": [
      "El texto del boton es: socios\n",
      "El tag del elemento es: button\n",
      "El texto del boton es: MÁS OPCIONES\n",
      "El tag del elemento es: button\n",
      "El texto del boton es: ACEPTO\n",
      "El tag del elemento es: button\n"
     ]
    }
   ],
   "source": [
    "for index, boton in enumerate(elements_by_tag):\n",
    "    print(\"El texto del boton es:\", boton.text)\n",
    "    print(\"El tag del elemento es:\", boton.tag_name)\n",
    "    boton.screenshot(\"pantallazo\" + str(index) + \".png\")\n",
    "    "
   ]
  },
  {
   "cell_type": "markdown",
   "metadata": {},
   "source": [
    "Nos quedamos con el boton que nos interesa"
   ]
  },
  {
   "cell_type": "code",
   "execution_count": 109,
   "metadata": {
    "ExecuteTime": {
     "end_time": "2021-02-26T10:24:47.302978Z",
     "start_time": "2021-02-26T10:24:47.291261Z"
    }
   },
   "outputs": [],
   "source": [
    "elements_by_tag[2].click()"
   ]
  },
  {
   "cell_type": "markdown",
   "metadata": {},
   "source": [
    "Si el elemento es interactivo podremos hacer más cosas además de las anteriores. Como hacer click"
   ]
  },
  {
   "cell_type": "code",
   "execution_count": 48,
   "metadata": {
    "ExecuteTime": {
     "end_time": "2021-02-26T10:24:48.611716Z",
     "start_time": "2021-02-26T10:24:48.390430Z"
    }
   },
   "outputs": [],
   "source": [
    "buscador = driver.find_element_by_id('top-search-input')"
   ]
  },
  {
   "cell_type": "markdown",
   "metadata": {},
   "source": [
    "Buscamos una pelicula"
   ]
  },
  {
   "cell_type": "code",
   "execution_count": 15,
   "metadata": {
    "ExecuteTime": {
     "end_time": "2021-02-26T10:28:14.592155Z",
     "start_time": "2021-02-26T10:28:13.509998Z"
    }
   },
   "outputs": [
    {
     "name": "stdout",
     "output_type": "stream",
     "text": [
      "top-search-input\n",
      "button-search\n",
      "\n"
     ]
    }
   ],
   "source": [
    "for el in driver.find_elements_by_tag_name('input'):\n",
    "    print(el.get_attribute('id'))"
   ]
  },
  {
   "cell_type": "code",
   "execution_count": 16,
   "metadata": {},
   "outputs": [
    {
     "data": {
      "text/plain": [
       "'input'"
      ]
     },
     "execution_count": 16,
     "metadata": {},
     "output_type": "execute_result"
    }
   ],
   "source": [
    "buscador.tag_name"
   ]
  },
  {
   "cell_type": "code",
   "execution_count": 17,
   "metadata": {},
   "outputs": [],
   "source": [
    "buscador.send_keys(\"El gran lebowski\")"
   ]
  },
  {
   "cell_type": "code",
   "execution_count": 18,
   "metadata": {},
   "outputs": [],
   "source": [
    "from selenium.webdriver.common.keys import Keys\n"
   ]
  },
  {
   "cell_type": "code",
   "execution_count": 19,
   "metadata": {},
   "outputs": [],
   "source": [
    "buscador.send_keys(Keys.ENTER)"
   ]
  },
  {
   "cell_type": "markdown",
   "metadata": {
    "ExecuteTime": {
     "end_time": "2021-02-25T10:09:19.308961Z",
     "start_time": "2021-02-25T10:09:19.299983Z"
    }
   },
   "source": [
    "Vamos a buscar todas las peliculas que se estrenan el proximos viernes"
   ]
  },
  {
   "cell_type": "code",
   "execution_count": 20,
   "metadata": {},
   "outputs": [
    {
     "data": {
      "text/plain": [
       "[]"
      ]
     },
     "execution_count": 20,
     "metadata": {},
     "output_type": "execute_result"
    }
   ],
   "source": [
    "driver.find_elements_by_partial_link_text('El gran Lebowski')"
   ]
  },
  {
   "cell_type": "code",
   "execution_count": 47,
   "metadata": {},
   "outputs": [
    {
     "ename": "IndexError",
     "evalue": "list index out of range",
     "output_type": "error",
     "traceback": [
      "\u001b[1;31m---------------------------------------------------------------------------\u001b[0m",
      "\u001b[1;31mIndexError\u001b[0m                                Traceback (most recent call last)",
      "\u001b[1;32m<ipython-input-47-cabe219d4f4d>\u001b[0m in \u001b[0;36m<module>\u001b[1;34m\u001b[0m\n\u001b[1;32m----> 1\u001b[1;33m \u001b[0melemento_div\u001b[0m \u001b[1;33m=\u001b[0m \u001b[0mdriver\u001b[0m\u001b[1;33m.\u001b[0m\u001b[0mfind_elements_by_class_name\u001b[0m\u001b[1;33m(\u001b[0m\u001b[1;34m'mc-title'\u001b[0m\u001b[1;33m)\u001b[0m\u001b[1;33m[\u001b[0m\u001b[1;36m0\u001b[0m\u001b[1;33m]\u001b[0m\u001b[1;33m\u001b[0m\u001b[1;33m\u001b[0m\u001b[0m\n\u001b[0m",
      "\u001b[1;31mIndexError\u001b[0m: list index out of range"
     ]
    }
   ],
   "source": [
    "elemento_div = driver.find_elements_by_class_name('mc-title')[0]"
   ]
  },
  {
   "cell_type": "code",
   "execution_count": null,
   "metadata": {},
   "outputs": [],
   "source": [
    "link = elemento_div.find_elements_by_tag_name('a')[0].get_attribute('href')"
   ]
  },
  {
   "cell_type": "code",
   "execution_count": 23,
   "metadata": {},
   "outputs": [
    {
     "ename": "NameError",
     "evalue": "name 'link' is not defined",
     "output_type": "error",
     "traceback": [
      "\u001b[1;31m---------------------------------------------------------------------------\u001b[0m",
      "\u001b[1;31mNameError\u001b[0m                                 Traceback (most recent call last)",
      "\u001b[1;32m<ipython-input-23-124db696890f>\u001b[0m in \u001b[0;36m<module>\u001b[1;34m\u001b[0m\n\u001b[1;32m----> 1\u001b[1;33m \u001b[0mdriver\u001b[0m\u001b[1;33m.\u001b[0m\u001b[0mget\u001b[0m\u001b[1;33m(\u001b[0m\u001b[0mlink\u001b[0m\u001b[1;33m)\u001b[0m\u001b[1;33m\u001b[0m\u001b[1;33m\u001b[0m\u001b[0m\n\u001b[0m",
      "\u001b[1;31mNameError\u001b[0m: name 'link' is not defined"
     ]
    }
   ],
   "source": [
    "driver.get(link)"
   ]
  },
  {
   "cell_type": "markdown",
   "metadata": {},
   "source": [
    "1. Nos cogemos los containers que hay en la zona central"
   ]
  },
  {
   "cell_type": "code",
   "execution_count": null,
   "metadata": {
    "ExecuteTime": {
     "end_time": "2021-02-25T10:40:53.961145Z",
     "start_time": "2021-02-25T10:40:53.793388Z"
    }
   },
   "outputs": [],
   "source": []
  },
  {
   "cell_type": "markdown",
   "metadata": {},
   "source": [
    "2. Vemos con cual nos tenemos que quedar"
   ]
  },
  {
   "cell_type": "code",
   "execution_count": 110,
   "metadata": {
    "ExecuteTime": {
     "end_time": "2021-02-25T10:40:55.130681Z",
     "start_time": "2021-02-25T10:40:54.930234Z"
    }
   },
   "outputs": [],
   "source": [
    "proximos_estrenos = driver.find_element_by_xpath('/html/body/div[5]/table/tbody/tr/td[1]/div/div[2]/ul/li[3]/a')"
   ]
  },
  {
   "cell_type": "code",
   "execution_count": null,
   "metadata": {},
   "outputs": [],
   "source": [
    "for i in driver.find_elements_by_css_selector(\"div.lsmheader\"):\n",
    "    print(i.text)"
   ]
  },
  {
   "cell_type": "code",
   "execution_count": 112,
   "metadata": {
    "scrolled": true
   },
   "outputs": [],
   "source": [
    "proximos_estrenos.click()"
   ]
  },
  {
   "cell_type": "markdown",
   "metadata": {},
   "source": [
    "3. Dentro del container tenemos que ir al boton de \"ver más\""
   ]
  },
  {
   "cell_type": "code",
   "execution_count": 113,
   "metadata": {
    "ExecuteTime": {
     "end_time": "2021-02-25T10:40:57.145029Z",
     "start_time": "2021-02-25T10:40:57.127072Z"
    }
   },
   "outputs": [],
   "source": [
    "semanas = driver.find_elements_by_id('main-wrapper-rdcat')\n",
    "for semana in semanas:\n",
    "    flag = semana.find_elements_by_id('2021-12-29')\n",
    "    if flag != []:\n",
    "        break"
   ]
  },
  {
   "cell_type": "markdown",
   "metadata": {},
   "source": [
    "# hola\n",
    "## \n",
    "### dds"
   ]
  },
  {
   "cell_type": "code",
   "execution_count": 114,
   "metadata": {
    "ExecuteTime": {
     "end_time": "2021-02-25T10:40:58.353853Z",
     "start_time": "2021-02-25T10:40:58.340849Z"
    }
   },
   "outputs": [
    {
     "data": {
      "text/plain": [
       "['https://www.filmaffinity.com/es/film112313.html',\n",
       " 'https://www.filmaffinity.com/es/film405972.html',\n",
       " 'https://www.filmaffinity.com/es/film853740.html',\n",
       " 'https://www.filmaffinity.com/es/film760511.html',\n",
       " 'https://www.filmaffinity.com/es/film577324.html',\n",
       " 'https://www.filmaffinity.com/es/film725720.html']"
      ]
     },
     "execution_count": 114,
     "metadata": {},
     "output_type": "execute_result"
    }
   ],
   "source": [
    "links = []\n",
    "peliculas = semana.find_elements_by_class_name('top-movie')\n",
    "for pelicula in peliculas:\n",
    "    elemnt = pelicula.find_element_by_tag_name('h3').find_element_by_tag_name('a')\n",
    "    links.append(elemnt.get_attribute('href'))\n",
    "\n",
    "links"
   ]
  },
  {
   "cell_type": "code",
   "execution_count": 33,
   "metadata": {},
   "outputs": [
    {
     "name": "stdout",
     "output_type": "stream",
     "text": [
      "https://www.filmaffinity.com/es/film445059.html\n",
      "https://www.filmaffinity.com/es/film445059.html\n",
      "https://www.filmaffinity.com/es/moviegenre.php?genre=CO&attr=rat_count&nodoc\n",
      "https://www.filmaffinity.com/es/film445059.html\n",
      "https://www.filmaffinity.com/es/film445059.html\n",
      "https://www.filmaffinity.com/es/search.php?stype=director&sn&stext=Camille%20Griffin\n",
      "https://www.filmaffinity.com/es/search.php?stype=cast&sn&stext=Keira%20Knightley\n",
      "https://www.filmaffinity.com/es/search.php?stype=cast&sn&stext=Matthew%20Goode\n",
      "https://www.filmaffinity.com/es/search.php?stype=cast&sn&stext=Roman%20Griffin%20Davis\n",
      "\n",
      "https://www.filmaffinity.com/es/cityTheaters.php?movie_id=445059\n"
     ]
    }
   ],
   "source": [
    "for enlaces in pelicula.find_elements_by_tag_name('a'):\n",
    "    print(enlaces.get_attribute('href'))"
   ]
  },
  {
   "cell_type": "markdown",
   "metadata": {},
   "source": [
    "5. Ahora podríamos hacer click como hemos hecho antes con el boton de aceptar las cooks"
   ]
  },
  {
   "cell_type": "markdown",
   "metadata": {},
   "source": [
    "Accedemos al container de la semana que queremos ver, exactamente igual que hemos hecho antes"
   ]
  },
  {
   "cell_type": "code",
   "execution_count": 54,
   "metadata": {
    "ExecuteTime": {
     "end_time": "2021-02-25T10:43:53.772471Z",
     "start_time": "2021-02-25T10:43:53.757510Z"
    }
   },
   "outputs": [],
   "source": [
    "driver.get(links[0])"
   ]
  },
  {
   "cell_type": "code",
   "execution_count": 73,
   "metadata": {
    "ExecuteTime": {
     "end_time": "2021-02-25T11:04:59.734561Z",
     "start_time": "2021-02-25T11:04:59.617626Z"
    }
   },
   "outputs": [],
   "source": [
    "titulo = driver.find_element_by_id('main-title').text\n",
    "nota = driver.find_element_by_id('movie-rat-avg').text\n",
    "votos_element = driver.find_element_by_id('movie-count-rat')\n",
    "votos = votos_element.find_element_by_tag_name('span').text\n",
    "movie_info = driver.find_element_by_class_name('movie-info')"
   ]
  },
  {
   "cell_type": "code",
   "execution_count": 64,
   "metadata": {},
   "outputs": [],
   "source": []
  },
  {
   "cell_type": "code",
   "execution_count": 69,
   "metadata": {},
   "outputs": [],
   "source": [
    "claves = list()\n",
    "for clave in movie_info.find_elements_by_tag_name('dt'):\n",
    "    claves.append(clave.text)\n",
    "    \n",
    "valores = list()\n",
    "for valor in movie_info.find_elements_by_tag_name('dd'):\n",
    "    valores.append(valor.text)\n",
    "    "
   ]
  },
  {
   "cell_type": "code",
   "execution_count": 75,
   "metadata": {},
   "outputs": [
    {
     "data": {
      "text/html": [
       "<div>\n",
       "<style scoped>\n",
       "    .dataframe tbody tr th:only-of-type {\n",
       "        vertical-align: middle;\n",
       "    }\n",
       "\n",
       "    .dataframe tbody tr th {\n",
       "        vertical-align: top;\n",
       "    }\n",
       "\n",
       "    .dataframe thead th {\n",
       "        text-align: right;\n",
       "    }\n",
       "</style>\n",
       "<table border=\"1\" class=\"dataframe\">\n",
       "  <thead>\n",
       "    <tr style=\"text-align: right;\">\n",
       "      <th></th>\n",
       "      <th>titulo</th>\n",
       "      <th>nota</th>\n",
       "      <th>votos</th>\n",
       "      <th>Título original</th>\n",
       "      <th>Año</th>\n",
       "      <th>Duración</th>\n",
       "      <th>País</th>\n",
       "      <th>Dirección</th>\n",
       "      <th>Guion</th>\n",
       "      <th>Música</th>\n",
       "      <th>Fotografía</th>\n",
       "      <th>Reparto</th>\n",
       "      <th>Productora</th>\n",
       "      <th>Género</th>\n",
       "      <th>Sinopsis</th>\n",
       "    </tr>\n",
       "  </thead>\n",
       "  <tbody>\n",
       "    <tr>\n",
       "      <th>0</th>\n",
       "      <td>West Side Story</td>\n",
       "      <td>7,3</td>\n",
       "      <td>215</td>\n",
       "      <td>West Side Story</td>\n",
       "      <td>2021</td>\n",
       "      <td>156 min.</td>\n",
       "      <td>Estados Unidos</td>\n",
       "      <td>Steven Spielberg</td>\n",
       "      <td>Tony Kushner. Libro: Arthur Laurents. Musical:...</td>\n",
       "      <td>Leonard Bernstein</td>\n",
       "      <td>Janusz Kaminski</td>\n",
       "      <td>Rachel Zegler, Ansel Elgort, David Alvarez, Ar...</td>\n",
       "      <td>Amblin Entertainment, 20th Century Studios. Di...</td>\n",
       "      <td>Musical. Romance. Drama | Drama romántico. Ban...</td>\n",
       "      <td>Los adolescentes Tony y María, a pesar de tene...</td>\n",
       "    </tr>\n",
       "  </tbody>\n",
       "</table>\n",
       "</div>"
      ],
      "text/plain": [
       "            titulo nota votos  Título original   Año  Duración  \\\n",
       "0  West Side Story  7,3   215  West Side Story  2021  156 min.   \n",
       "\n",
       "              País         Dirección  \\\n",
       "0   Estados Unidos  Steven Spielberg   \n",
       "\n",
       "                                               Guion             Música  \\\n",
       "0  Tony Kushner. Libro: Arthur Laurents. Musical:...  Leonard Bernstein   \n",
       "\n",
       "        Fotografía                                            Reparto  \\\n",
       "0  Janusz Kaminski  Rachel Zegler, Ansel Elgort, David Alvarez, Ar...   \n",
       "\n",
       "                                          Productora  \\\n",
       "0  Amblin Entertainment, 20th Century Studios. Di...   \n",
       "\n",
       "                                              Género  \\\n",
       "0  Musical. Romance. Drama | Drama romántico. Ban...   \n",
       "\n",
       "                                            Sinopsis  \n",
       "0  Los adolescentes Tony y María, a pesar de tene...  "
      ]
     },
     "execution_count": 75,
     "metadata": {},
     "output_type": "execute_result"
    }
   ],
   "source": [
    "columnas = ['titulo', 'nota', 'votos']\n",
    "columnas.extend(claves)\n",
    "\n",
    "info = [titulo, nota, votos]\n",
    "info.extend(valores)\n",
    "\n",
    "pd.DataFrame([info], columns=columnas)"
   ]
  },
  {
   "cell_type": "markdown",
   "metadata": {
    "ExecuteTime": {
     "end_time": "2021-02-25T11:04:08.219853Z",
     "start_time": "2021-02-25T11:04:08.215863Z"
    }
   },
   "source": [
    "Buscamos las peliculas"
   ]
  },
  {
   "cell_type": "code",
   "execution_count": null,
   "metadata": {
    "ExecuteTime": {
     "end_time": "2021-02-25T11:10:28.294864Z",
     "start_time": "2021-02-25T11:10:28.174126Z"
    }
   },
   "outputs": [],
   "source": []
  },
  {
   "cell_type": "markdown",
   "metadata": {},
   "source": [
    "Una vez tenemos todas las urls vamos a ver que hacemos con cada una de ellas"
   ]
  },
  {
   "cell_type": "code",
   "execution_count": null,
   "metadata": {
    "ExecuteTime": {
     "end_time": "2021-02-25T11:15:40.003059Z",
     "start_time": "2021-02-25T11:15:39.091047Z"
    }
   },
   "outputs": [],
   "source": []
  },
  {
   "cell_type": "markdown",
   "metadata": {
    "ExecuteTime": {
     "end_time": "2021-02-25T11:21:51.020248Z",
     "start_time": "2021-02-25T11:21:50.381138Z"
    }
   },
   "source": [
    "Vamos a ver el proceso que deberiamos hacer con cada una de las películas:"
   ]
  },
  {
   "cell_type": "markdown",
   "metadata": {},
   "source": [
    "1. Sacamos toda la información que nos interesa"
   ]
  },
  {
   "cell_type": "code",
   "execution_count": null,
   "metadata": {
    "ExecuteTime": {
     "end_time": "2021-02-25T11:36:58.487622Z",
     "start_time": "2021-02-25T11:36:58.420292Z"
    }
   },
   "outputs": [],
   "source": []
  },
  {
   "cell_type": "code",
   "execution_count": null,
   "metadata": {},
   "outputs": [],
   "source": []
  },
  {
   "cell_type": "code",
   "execution_count": null,
   "metadata": {},
   "outputs": [],
   "source": []
  },
  {
   "cell_type": "markdown",
   "metadata": {},
   "source": [
    "2. Creamos una lista a partir de la ficha técnica"
   ]
  },
  {
   "cell_type": "code",
   "execution_count": null,
   "metadata": {
    "ExecuteTime": {
     "end_time": "2021-02-25T11:34:54.218938Z",
     "start_time": "2021-02-25T11:34:53.923558Z"
    }
   },
   "outputs": [],
   "source": []
  },
  {
   "cell_type": "code",
   "execution_count": null,
   "metadata": {},
   "outputs": [],
   "source": []
  },
  {
   "cell_type": "markdown",
   "metadata": {},
   "source": [
    "3. Creamos un dataframe con la info"
   ]
  },
  {
   "cell_type": "code",
   "execution_count": null,
   "metadata": {
    "ExecuteTime": {
     "end_time": "2021-02-25T11:38:19.916044Z",
     "start_time": "2021-02-25T11:38:19.899094Z"
    }
   },
   "outputs": [],
   "source": []
  },
  {
   "cell_type": "markdown",
   "metadata": {},
   "source": [
    "Vamos a crear una función que nos haga todo esto"
   ]
  },
  {
   "cell_type": "code",
   "execution_count": null,
   "metadata": {
    "ExecuteTime": {
     "end_time": "2021-02-25T11:58:39.349919Z",
     "start_time": "2021-02-25T11:58:39.052802Z"
    }
   },
   "outputs": [],
   "source": []
  },
  {
   "cell_type": "markdown",
   "metadata": {},
   "source": [
    "## Moviendonos entre ventanas"
   ]
  },
  {
   "cell_type": "markdown",
   "metadata": {},
   "source": [
    "Vamos a ver como nos podemos mover entre ventanas del navegador\n",
    "\n",
    "Abrir nueva ventana:"
   ]
  },
  {
   "cell_type": "code",
   "execution_count": 76,
   "metadata": {},
   "outputs": [],
   "source": [
    "driver.execute_script(\"alert('Hola este mens desde la consola')\")"
   ]
  },
  {
   "cell_type": "code",
   "execution_count": 79,
   "metadata": {},
   "outputs": [],
   "source": [
    "driver.execute_script(\"window.open('http://www.google.com')\")"
   ]
  },
  {
   "cell_type": "code",
   "execution_count": null,
   "metadata": {},
   "outputs": [],
   "source": []
  },
  {
   "cell_type": "markdown",
   "metadata": {},
   "source": [
    "Movernos a otra ventana"
   ]
  },
  {
   "cell_type": "code",
   "execution_count": 97,
   "metadata": {},
   "outputs": [],
   "source": [
    "driver.switch_to.window(driver.window_handles[-1])"
   ]
  },
  {
   "cell_type": "markdown",
   "metadata": {},
   "source": [
    "Cerrar ventana"
   ]
  },
  {
   "cell_type": "code",
   "execution_count": 99,
   "metadata": {
    "ExecuteTime": {
     "end_time": "2021-02-25T12:04:17.177986Z",
     "start_time": "2021-02-25T12:04:17.160442Z"
    }
   },
   "outputs": [
    {
     "ename": "NoSuchWindowException",
     "evalue": "Message: no such window: target window already closed\nfrom unknown error: web view not found\n  (Session info: chrome=96.0.4664.110)\n",
     "output_type": "error",
     "traceback": [
      "\u001b[1;31m---------------------------------------------------------------------------\u001b[0m",
      "\u001b[1;31mNoSuchWindowException\u001b[0m                     Traceback (most recent call last)",
      "\u001b[1;32m<ipython-input-99-ad0c9a213c39>\u001b[0m in \u001b[0;36m<module>\u001b[1;34m\u001b[0m\n\u001b[1;32m----> 1\u001b[1;33m \u001b[0mdriver\u001b[0m\u001b[1;33m.\u001b[0m\u001b[0mclose\u001b[0m\u001b[1;33m(\u001b[0m\u001b[1;33m)\u001b[0m\u001b[1;33m\u001b[0m\u001b[1;33m\u001b[0m\u001b[0m\n\u001b[0m",
      "\u001b[1;32mc:\\users\\arana\\miniconda3\\lib\\site-packages\\selenium\\webdriver\\remote\\webdriver.py\u001b[0m in \u001b[0;36mclose\u001b[1;34m(self)\u001b[0m\n\u001b[0;32m    686\u001b[0m             \u001b[0mdriver\u001b[0m\u001b[1;33m.\u001b[0m\u001b[0mclose\u001b[0m\u001b[1;33m(\u001b[0m\u001b[1;33m)\u001b[0m\u001b[1;33m\u001b[0m\u001b[1;33m\u001b[0m\u001b[0m\n\u001b[0;32m    687\u001b[0m         \"\"\"\n\u001b[1;32m--> 688\u001b[1;33m         \u001b[0mself\u001b[0m\u001b[1;33m.\u001b[0m\u001b[0mexecute\u001b[0m\u001b[1;33m(\u001b[0m\u001b[0mCommand\u001b[0m\u001b[1;33m.\u001b[0m\u001b[0mCLOSE\u001b[0m\u001b[1;33m)\u001b[0m\u001b[1;33m\u001b[0m\u001b[1;33m\u001b[0m\u001b[0m\n\u001b[0m\u001b[0;32m    689\u001b[0m \u001b[1;33m\u001b[0m\u001b[0m\n\u001b[0;32m    690\u001b[0m     \u001b[1;32mdef\u001b[0m \u001b[0mquit\u001b[0m\u001b[1;33m(\u001b[0m\u001b[0mself\u001b[0m\u001b[1;33m)\u001b[0m\u001b[1;33m:\u001b[0m\u001b[1;33m\u001b[0m\u001b[1;33m\u001b[0m\u001b[0m\n",
      "\u001b[1;32mc:\\users\\arana\\miniconda3\\lib\\site-packages\\selenium\\webdriver\\remote\\webdriver.py\u001b[0m in \u001b[0;36mexecute\u001b[1;34m(self, driver_command, params)\u001b[0m\n\u001b[0;32m    319\u001b[0m         \u001b[0mresponse\u001b[0m \u001b[1;33m=\u001b[0m \u001b[0mself\u001b[0m\u001b[1;33m.\u001b[0m\u001b[0mcommand_executor\u001b[0m\u001b[1;33m.\u001b[0m\u001b[0mexecute\u001b[0m\u001b[1;33m(\u001b[0m\u001b[0mdriver_command\u001b[0m\u001b[1;33m,\u001b[0m \u001b[0mparams\u001b[0m\u001b[1;33m)\u001b[0m\u001b[1;33m\u001b[0m\u001b[1;33m\u001b[0m\u001b[0m\n\u001b[0;32m    320\u001b[0m         \u001b[1;32mif\u001b[0m \u001b[0mresponse\u001b[0m\u001b[1;33m:\u001b[0m\u001b[1;33m\u001b[0m\u001b[1;33m\u001b[0m\u001b[0m\n\u001b[1;32m--> 321\u001b[1;33m             \u001b[0mself\u001b[0m\u001b[1;33m.\u001b[0m\u001b[0merror_handler\u001b[0m\u001b[1;33m.\u001b[0m\u001b[0mcheck_response\u001b[0m\u001b[1;33m(\u001b[0m\u001b[0mresponse\u001b[0m\u001b[1;33m)\u001b[0m\u001b[1;33m\u001b[0m\u001b[1;33m\u001b[0m\u001b[0m\n\u001b[0m\u001b[0;32m    322\u001b[0m             response['value'] = self._unwrap_value(\n\u001b[0;32m    323\u001b[0m                 response.get('value', None))\n",
      "\u001b[1;32mc:\\users\\arana\\miniconda3\\lib\\site-packages\\selenium\\webdriver\\remote\\errorhandler.py\u001b[0m in \u001b[0;36mcheck_response\u001b[1;34m(self, response)\u001b[0m\n\u001b[0;32m    240\u001b[0m                 \u001b[0malert_text\u001b[0m \u001b[1;33m=\u001b[0m \u001b[0mvalue\u001b[0m\u001b[1;33m[\u001b[0m\u001b[1;34m'alert'\u001b[0m\u001b[1;33m]\u001b[0m\u001b[1;33m.\u001b[0m\u001b[0mget\u001b[0m\u001b[1;33m(\u001b[0m\u001b[1;34m'text'\u001b[0m\u001b[1;33m)\u001b[0m\u001b[1;33m\u001b[0m\u001b[1;33m\u001b[0m\u001b[0m\n\u001b[0;32m    241\u001b[0m             \u001b[1;32mraise\u001b[0m \u001b[0mexception_class\u001b[0m\u001b[1;33m(\u001b[0m\u001b[0mmessage\u001b[0m\u001b[1;33m,\u001b[0m \u001b[0mscreen\u001b[0m\u001b[1;33m,\u001b[0m \u001b[0mstacktrace\u001b[0m\u001b[1;33m,\u001b[0m \u001b[0malert_text\u001b[0m\u001b[1;33m)\u001b[0m\u001b[1;33m\u001b[0m\u001b[1;33m\u001b[0m\u001b[0m\n\u001b[1;32m--> 242\u001b[1;33m         \u001b[1;32mraise\u001b[0m \u001b[0mexception_class\u001b[0m\u001b[1;33m(\u001b[0m\u001b[0mmessage\u001b[0m\u001b[1;33m,\u001b[0m \u001b[0mscreen\u001b[0m\u001b[1;33m,\u001b[0m \u001b[0mstacktrace\u001b[0m\u001b[1;33m)\u001b[0m\u001b[1;33m\u001b[0m\u001b[1;33m\u001b[0m\u001b[0m\n\u001b[0m\u001b[0;32m    243\u001b[0m \u001b[1;33m\u001b[0m\u001b[0m\n\u001b[0;32m    244\u001b[0m     \u001b[1;32mdef\u001b[0m \u001b[0m_value_or_default\u001b[0m\u001b[1;33m(\u001b[0m\u001b[0mself\u001b[0m\u001b[1;33m,\u001b[0m \u001b[0mobj\u001b[0m\u001b[1;33m,\u001b[0m \u001b[0mkey\u001b[0m\u001b[1;33m,\u001b[0m \u001b[0mdefault\u001b[0m\u001b[1;33m)\u001b[0m\u001b[1;33m:\u001b[0m\u001b[1;33m\u001b[0m\u001b[1;33m\u001b[0m\u001b[0m\n",
      "\u001b[1;31mNoSuchWindowException\u001b[0m: Message: no such window: target window already closed\nfrom unknown error: web view not found\n  (Session info: chrome=96.0.4664.110)\n"
     ]
    }
   ],
   "source": [
    "driver.close()"
   ]
  },
  {
   "cell_type": "markdown",
   "metadata": {},
   "source": [
    "Una vez cerramos la ventana tenemos que indicarle a que ventana tiene que ir"
   ]
  },
  {
   "cell_type": "code",
   "execution_count": 127,
   "metadata": {
    "ExecuteTime": {
     "end_time": "2021-02-25T12:05:01.711952Z",
     "start_time": "2021-02-25T12:05:01.583709Z"
    }
   },
   "outputs": [],
   "source": [
    "driver.switch_to.window(driver.window_handles[-1])\n",
    "driver.close()\n",
    "driver.switch_to.window(driver.window_handles[-1])\n"
   ]
  },
  {
   "cell_type": "markdown",
   "metadata": {},
   "source": [
    "Sabiendo como podemos movernos por entre las ventanas y sabiendo como extraer de cada pagina toda la información que necesitamos vamos a crear nuestro dataframe"
   ]
  },
  {
   "cell_type": "code",
   "execution_count": 102,
   "metadata": {
    "ExecuteTime": {
     "end_time": "2021-02-25T12:00:27.038323Z",
     "start_time": "2021-02-25T11:59:37.219902Z"
    }
   },
   "outputs": [
    {
     "data": {
      "text/plain": [
       "['https://www.filmaffinity.com/es/film776481.html',\n",
       " 'https://www.filmaffinity.com/es/film517462.html',\n",
       " 'https://www.filmaffinity.com/es/film822006.html',\n",
       " 'https://www.filmaffinity.com/es/film445059.html']"
      ]
     },
     "execution_count": 102,
     "metadata": {},
     "output_type": "execute_result"
    }
   ],
   "source": [
    "links"
   ]
  },
  {
   "cell_type": "code",
   "execution_count": 129,
   "metadata": {
    "ExecuteTime": {
     "end_time": "2021-02-25T12:00:36.221987Z",
     "start_time": "2021-02-25T12:00:36.207006Z"
    }
   },
   "outputs": [],
   "source": [
    "driver.switch_to.window(driver.window_handles[-1])"
   ]
  },
  {
   "cell_type": "code",
   "execution_count": 105,
   "metadata": {},
   "outputs": [],
   "source": [
    "driver.switch_to.window(driver.window_handles[-1])\n",
    "driver.get('https://www.filmaffinity.com/es/film445059.html')"
   ]
  },
  {
   "cell_type": "code",
   "execution_count": 133,
   "metadata": {},
   "outputs": [
    {
     "name": "stdout",
     "output_type": "stream",
     "text": [
      "Get:  -0.8814976215362549\n",
      "todo el for:  -2.4114387035369873\n",
      "Get:  -0.8753452301025391\n",
      "todo el for:  -2.617586374282837\n",
      "Get:  -0.901007890701294\n",
      "todo el for:  -2.240488052368164\n",
      "Get:  -0.6661884784698486\n",
      "todo el for:  -1.9987702369689941\n",
      "Get:  -0.7314631938934326\n",
      "todo el for:  -2.2061054706573486\n",
      "Get:  -0.855257511138916\n",
      "todo el for:  -2.247479200363159\n"
     ]
    }
   ],
   "source": [
    "import time\n",
    "df_peli = pd.DataFrame()\n",
    "for pelicula in links:\n",
    "    b = time.time()\n",
    "    driver.execute_script(\"window.open('')\")\n",
    "    driver.switch_to.window(driver.window_handles[-1])\n",
    "    a = time.time()\n",
    "    driver.get(pelicula)\n",
    "    print(\"Get: \", a - time.time())\n",
    "    peli = nueva_peli(driver)\n",
    "    df_peli = df_peli.append(peli)\n",
    "    driver.close()\n",
    "    driver.switch_to.window(driver.window_handles[-1])\n",
    "    print(\"todo el for: \", b - time.time())"
   ]
  },
  {
   "cell_type": "code",
   "execution_count": 131,
   "metadata": {},
   "outputs": [
    {
     "data": {
      "text/html": [
       "<div>\n",
       "<style scoped>\n",
       "    .dataframe tbody tr th:only-of-type {\n",
       "        vertical-align: middle;\n",
       "    }\n",
       "\n",
       "    .dataframe tbody tr th {\n",
       "        vertical-align: top;\n",
       "    }\n",
       "\n",
       "    .dataframe thead th {\n",
       "        text-align: right;\n",
       "    }\n",
       "</style>\n",
       "<table border=\"1\" class=\"dataframe\">\n",
       "  <thead>\n",
       "    <tr style=\"text-align: right;\">\n",
       "      <th></th>\n",
       "      <th>titulo</th>\n",
       "      <th>nota</th>\n",
       "      <th>votos</th>\n",
       "      <th>Título original</th>\n",
       "      <th>Año</th>\n",
       "      <th>Duración</th>\n",
       "      <th>País</th>\n",
       "      <th>Dirección</th>\n",
       "      <th>Guion</th>\n",
       "      <th>Música</th>\n",
       "      <th>Fotografía</th>\n",
       "      <th>Reparto</th>\n",
       "      <th>Productora</th>\n",
       "      <th>Género</th>\n",
       "      <th>Grupos</th>\n",
       "      <th>Sinopsis</th>\n",
       "      <th></th>\n",
       "    </tr>\n",
       "  </thead>\n",
       "  <tbody>\n",
       "    <tr>\n",
       "      <th>0</th>\n",
       "      <td>The King's Man: La primera misión</td>\n",
       "      <td>None</td>\n",
       "      <td>None</td>\n",
       "      <td>The King's Man</td>\n",
       "      <td>2021</td>\n",
       "      <td>131 min.</td>\n",
       "      <td>Reino Unido</td>\n",
       "      <td>Matthew Vaughn</td>\n",
       "      <td>Jane Goldman, Matthew Vaughn, Karl Gajdusek. P...</td>\n",
       "      <td>Dominic Lewis, Matthew Margeson</td>\n",
       "      <td>Ben Davis</td>\n",
       "      <td>Harris Dickinson, Ralph Fiennes, Aaron Taylor-...</td>\n",
       "      <td>Coproducción Reino Unido-Estados Unidos; Marv ...</td>\n",
       "      <td>Thriller. Acción. Comedia | Espionaje. Cómic. ...</td>\n",
       "      <td>Adaptaciones de Mark Millar | Adaptaciones de ...</td>\n",
       "      <td>Cuando un grupo formado por los tiranos y las ...</td>\n",
       "      <td>NaN</td>\n",
       "    </tr>\n",
       "    <tr>\n",
       "      <th>0</th>\n",
       "      <td>El contador de cartas</td>\n",
       "      <td>6,5</td>\n",
       "      <td>1.034</td>\n",
       "      <td>The Card Counter</td>\n",
       "      <td>2021</td>\n",
       "      <td>112 min.</td>\n",
       "      <td>Estados Unidos</td>\n",
       "      <td>Paul Schrader</td>\n",
       "      <td>Paul Schrader</td>\n",
       "      <td>Robert Levon Been, Giancarlo Vulcano</td>\n",
       "      <td>Alexander Dynan</td>\n",
       "      <td>Oscar Isaac, Tye Sheridan, Tiffany Haddish, Wi...</td>\n",
       "      <td>Coproducción Estados Unidos-Reino Unido-China;...</td>\n",
       "      <td>Drama | Ejército. Juego. Póker</td>\n",
       "      <td>NaN</td>\n",
       "      <td>William Tell (Oscar Isaac) es un exmilitar y j...</td>\n",
       "      <td>NaN</td>\n",
       "    </tr>\n",
       "    <tr>\n",
       "      <th>0</th>\n",
       "      <td>Vuelta a casa de mi hija</td>\n",
       "      <td>None</td>\n",
       "      <td>None</td>\n",
       "      <td>Un tour chez ma fille</td>\n",
       "      <td>2021</td>\n",
       "      <td>88 min.</td>\n",
       "      <td>Francia</td>\n",
       "      <td>Eric Lavaine</td>\n",
       "      <td>Héctor Cabello Reyes, Bruno, Eric Lavaine</td>\n",
       "      <td>NaN</td>\n",
       "      <td>NaN</td>\n",
       "      <td>Josiane Balasko, Mathilde Seigner, Jérôme Comm...</td>\n",
       "      <td>Same Player, Pathé, TF1 Films Production, Cana...</td>\n",
       "      <td>Comedia | Secuela. Familia</td>\n",
       "      <td>NaN</td>\n",
       "      <td>Esta vez, es ella quien llega. Jacqueline está...</td>\n",
       "      <td>NaN</td>\n",
       "    </tr>\n",
       "    <tr>\n",
       "      <th>0</th>\n",
       "      <td>Klara y la Navidad en la granja</td>\n",
       "      <td>None</td>\n",
       "      <td>None</td>\n",
       "      <td>Jul Pa Kutoppen aka</td>\n",
       "      <td>2020</td>\n",
       "      <td>68 min.</td>\n",
       "      <td>Noruega</td>\n",
       "      <td>Will Ashurst</td>\n",
       "      <td>Ole Christian Solbakken</td>\n",
       "      <td>Gaute Storaas</td>\n",
       "      <td>Animación</td>\n",
       "      <td>Animación</td>\n",
       "      <td>Qvisten Animation</td>\n",
       "      <td>Animación. Infantil | Navidad</td>\n",
       "      <td>NaN</td>\n",
       "      <td>Klara, una joven vaca de la ciudad, está muy e...</td>\n",
       "      <td></td>\n",
       "    </tr>\n",
       "    <tr>\n",
       "      <th>0</th>\n",
       "      <td>100 días con la Tata</td>\n",
       "      <td>None</td>\n",
       "      <td>None</td>\n",
       "      <td>100 días con la Tata</td>\n",
       "      <td>2021</td>\n",
       "      <td>82 min.</td>\n",
       "      <td>España</td>\n",
       "      <td>Miguel Ángel Muñoz</td>\n",
       "      <td>Jorge Laplace, Miguel Ángel Muñoz</td>\n",
       "      <td>Sergio Jiménez Lacima</td>\n",
       "      <td>José David Montero</td>\n",
       "      <td>Documental, intervenciones de: Miguel Ángel Mu...</td>\n",
       "      <td>Paciencia Films</td>\n",
       "      <td>Documental | Coronavirus (COVID-19). Vejez / M...</td>\n",
       "      <td>NaN</td>\n",
       "      <td>Los padres del actor Miguel Ángel Muñoz tuvier...</td>\n",
       "      <td>NaN</td>\n",
       "    </tr>\n",
       "    <tr>\n",
       "      <th>0</th>\n",
       "      <td>My Beautiful Baghdad</td>\n",
       "      <td>None</td>\n",
       "      <td>None</td>\n",
       "      <td>Baghdad in My Shadow</td>\n",
       "      <td>2019</td>\n",
       "      <td>108 min.</td>\n",
       "      <td>Reino Unido</td>\n",
       "      <td>Samir</td>\n",
       "      <td>Samir, Furat al Jamil</td>\n",
       "      <td>Tom Linden, Walter Mair</td>\n",
       "      <td>The Chau Ngo</td>\n",
       "      <td>Haytham Abdulrazaq, Waseem Abass, Daniel Adegb...</td>\n",
       "      <td>Coproducción Reino Unido-Alemania-Suiza; Dscho...</td>\n",
       "      <td>Thriller</td>\n",
       "      <td>NaN</td>\n",
       "      <td>\"Abu Nawas\" es un café de moda y el lugar en e...</td>\n",
       "      <td>NaN</td>\n",
       "    </tr>\n",
       "  </tbody>\n",
       "</table>\n",
       "</div>"
      ],
      "text/plain": [
       "                              titulo  nota  votos        Título original  \\\n",
       "0  The King's Man: La primera misión  None   None         The King's Man   \n",
       "0              El contador de cartas   6,5  1.034       The Card Counter   \n",
       "0           Vuelta a casa de mi hija  None   None  Un tour chez ma fille   \n",
       "0    Klara y la Navidad en la granja  None   None    Jul Pa Kutoppen aka   \n",
       "0               100 días con la Tata  None   None   100 días con la Tata   \n",
       "0               My Beautiful Baghdad  None   None   Baghdad in My Shadow   \n",
       "\n",
       "    Año  Duración             País           Dirección  \\\n",
       "0  2021  131 min.      Reino Unido      Matthew Vaughn   \n",
       "0  2021  112 min.   Estados Unidos       Paul Schrader   \n",
       "0  2021   88 min.          Francia        Eric Lavaine   \n",
       "0  2020   68 min.          Noruega        Will Ashurst   \n",
       "0  2021   82 min.           España  Miguel Ángel Muñoz   \n",
       "0  2019  108 min.      Reino Unido               Samir   \n",
       "\n",
       "                                               Guion  \\\n",
       "0  Jane Goldman, Matthew Vaughn, Karl Gajdusek. P...   \n",
       "0                                      Paul Schrader   \n",
       "0          Héctor Cabello Reyes, Bruno, Eric Lavaine   \n",
       "0                            Ole Christian Solbakken   \n",
       "0                  Jorge Laplace, Miguel Ángel Muñoz   \n",
       "0                              Samir, Furat al Jamil   \n",
       "\n",
       "                                 Música          Fotografía  \\\n",
       "0       Dominic Lewis, Matthew Margeson           Ben Davis   \n",
       "0  Robert Levon Been, Giancarlo Vulcano     Alexander Dynan   \n",
       "0                                   NaN                 NaN   \n",
       "0                         Gaute Storaas           Animación   \n",
       "0                 Sergio Jiménez Lacima  José David Montero   \n",
       "0               Tom Linden, Walter Mair        The Chau Ngo   \n",
       "\n",
       "                                             Reparto  \\\n",
       "0  Harris Dickinson, Ralph Fiennes, Aaron Taylor-...   \n",
       "0  Oscar Isaac, Tye Sheridan, Tiffany Haddish, Wi...   \n",
       "0  Josiane Balasko, Mathilde Seigner, Jérôme Comm...   \n",
       "0                                          Animación   \n",
       "0  Documental, intervenciones de: Miguel Ángel Mu...   \n",
       "0  Haytham Abdulrazaq, Waseem Abass, Daniel Adegb...   \n",
       "\n",
       "                                          Productora  \\\n",
       "0  Coproducción Reino Unido-Estados Unidos; Marv ...   \n",
       "0  Coproducción Estados Unidos-Reino Unido-China;...   \n",
       "0  Same Player, Pathé, TF1 Films Production, Cana...   \n",
       "0                                  Qvisten Animation   \n",
       "0                                    Paciencia Films   \n",
       "0  Coproducción Reino Unido-Alemania-Suiza; Dscho...   \n",
       "\n",
       "                                              Género  \\\n",
       "0  Thriller. Acción. Comedia | Espionaje. Cómic. ...   \n",
       "0                     Drama | Ejército. Juego. Póker   \n",
       "0                         Comedia | Secuela. Familia   \n",
       "0                      Animación. Infantil | Navidad   \n",
       "0  Documental | Coronavirus (COVID-19). Vejez / M...   \n",
       "0                                           Thriller   \n",
       "\n",
       "                                              Grupos  \\\n",
       "0  Adaptaciones de Mark Millar | Adaptaciones de ...   \n",
       "0                                                NaN   \n",
       "0                                                NaN   \n",
       "0                                                NaN   \n",
       "0                                                NaN   \n",
       "0                                                NaN   \n",
       "\n",
       "                                            Sinopsis       \n",
       "0  Cuando un grupo formado por los tiranos y las ...  NaN  \n",
       "0  William Tell (Oscar Isaac) es un exmilitar y j...  NaN  \n",
       "0  Esta vez, es ella quien llega. Jacqueline está...  NaN  \n",
       "0  Klara, una joven vaca de la ciudad, está muy e...       \n",
       "0  Los padres del actor Miguel Ángel Muñoz tuvier...  NaN  \n",
       "0  \"Abu Nawas\" es un café de moda y el lugar en e...  NaN  "
      ]
     },
     "execution_count": 131,
     "metadata": {},
     "output_type": "execute_result"
    }
   ],
   "source": [
    "df_peli"
   ]
  },
  {
   "cell_type": "code",
   "execution_count": 118,
   "metadata": {},
   "outputs": [],
   "source": [
    "def nueva_peli(driver):\n",
    "    \n",
    "    titulo, nota, votos, movie_info = extraer_informacion(driver)\n",
    "    claves, valores = ficha_tecnica(movie_info)\n",
    "    peli = construir_df(titulo, nota, votos, claves, valores)\n",
    "\n",
    "    return peli\n",
    "\n",
    "def extraer_informacion(driver):\n",
    "    \n",
    "    titulo = driver.find_element_by_id('main-title').text\n",
    "    try:\n",
    "        nota = driver.find_element_by_id('movie-rat-avg').text\n",
    "        votos_element = driver.find_element_by_id('movie-count-rat')\n",
    "        votos = votos_element.find_element_by_tag_name('span').text\n",
    "    except:\n",
    "        nota = None\n",
    "        votos = None\n",
    "        \n",
    "    movie_info = driver.find_element_by_class_name('movie-info')\n",
    "    \n",
    "    return titulo, nota, votos, movie_info\n",
    "\n",
    "def ficha_tecnica(movie_info):\n",
    "    \n",
    "    claves = list()\n",
    "    for clave in movie_info.find_elements_by_tag_name('dt'):\n",
    "        claves.append(clave.text)\n",
    "\n",
    "    valores = list()\n",
    "    for valor in movie_info.find_elements_by_tag_name('dd'):\n",
    "        valores.append(valor.text)\n",
    "        \n",
    "    return claves, valores\n",
    "\n",
    "def construir_df(titulo, nota, votos, claves, valores):\n",
    "    \n",
    "    columnas = ['titulo', 'nota', 'votos']\n",
    "    columnas.extend(claves)\n",
    "\n",
    "    info = [titulo, nota, votos]\n",
    "    info.extend(valores)\n",
    "\n",
    "    return pd.DataFrame([info], columns=columnas)\n"
   ]
  },
  {
   "cell_type": "code",
   "execution_count": null,
   "metadata": {},
   "outputs": [],
   "source": [
    "def foo(a, b):\n",
    "    c = a + b\n",
    "    return c\n",
    "\n",
    "def foo2(a, b):\n",
    "    return a + b "
   ]
  }
 ],
 "metadata": {
  "kernelspec": {
   "display_name": "Python 3",
   "language": "python",
   "name": "python3"
  },
  "language_info": {
   "codemirror_mode": {
    "name": "ipython",
    "version": 3
   },
   "file_extension": ".py",
   "mimetype": "text/x-python",
   "name": "python",
   "nbconvert_exporter": "python",
   "pygments_lexer": "ipython3",
   "version": "3.8.5"
  },
  "nbTranslate": {
   "displayLangs": [
    "*"
   ],
   "hotkey": "alt-t",
   "langInMainMenu": true,
   "sourceLang": "en",
   "targetLang": "fr",
   "useGoogleTranslate": true
  },
  "varInspector": {
   "cols": {
    "lenName": 16,
    "lenType": 16,
    "lenVar": 40
   },
   "kernels_config": {
    "python": {
     "delete_cmd_postfix": "",
     "delete_cmd_prefix": "del ",
     "library": "var_list.py",
     "varRefreshCmd": "print(var_dic_list())"
    },
    "r": {
     "delete_cmd_postfix": ") ",
     "delete_cmd_prefix": "rm(",
     "library": "var_list.r",
     "varRefreshCmd": "cat(var_dic_list()) "
    }
   },
   "types_to_exclude": [
    "module",
    "function",
    "builtin_function_or_method",
    "instance",
    "_Feature"
   ],
   "window_display": false
  }
 },
 "nbformat": 4,
 "nbformat_minor": 2
}
