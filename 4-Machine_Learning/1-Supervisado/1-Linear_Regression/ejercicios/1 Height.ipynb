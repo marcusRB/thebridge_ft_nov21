{
 "cells": [
  {
   "cell_type": "markdown",
   "metadata": {},
   "source": [
    "### Se pide, usando regresión lineal:\n",
    "\n",
    "Dibujar con una línea la relación que hay entre la altura y la edad de los alumnos de esta clase: \n",
    "\n",
    "- ¿Es una buena técnica para este tipo de problemas? ¿Por qué? \n",
    "- ¿Qué error se comete? Calcula los errores que está cometiendo tu modelo uno a uno (lo tienes que calcular tú con python). Aparte, usa el MSE y el RMSE. ¿Alguno es mejor para este problema?\n",
    "- Representa la matriz de correlación, ¿los datos están correlacionados?"
   ]
  },
  {
   "cell_type": "code",
   "execution_count": 1,
   "metadata": {},
   "outputs": [],
   "source": [
    "lista_alumnos = [(\"Leonardo Sánchez\", 24, 1.82), \n",
    "                 (\"Piero Termini\", 25, 1.71), \n",
    "                 (\"Silvia Pasinato\", 37, 1.63), \n",
    "                 (\"Faro Zamani\", 29, 1.90), \n",
    "                 (\"Miguel Nievas\", 27, 1.80), \n",
    "                 (\"Alejandro Medina\", 28, 1.70), \n",
    "                 (\"Cristina Martínez\", 32, 1.60), \n",
    "                 (\"Francisco Palma\", 36, 1.74), \n",
    "                 (\"Jorge Duque\", 45, 1.72), \n",
    "                 (\"Jesús Llanes\", 41, 1.65), \n",
    "                 (\"Marta Gómez\", 30, 1.65), \n",
    "                 (\"Jennifer Sanchez\", 40, 1.60), \n",
    "                 (\"Diego Isla\", 39, 1.80), \n",
    "                 (\"Antonio Campaña\", 23, 1.77), \n",
    "                 (\"Juan Maniglia\", 32, 1.75), \n",
    "                 (\"David Suárez\", 27, 1.70), \n",
    "                 (\"Antonio Jiménez\", 34, 1.80), \n",
    "                 (\"Carlos Hernández\", 27, 1.77), \n",
    "                 (\"Erik Urresta\", 28, 1.70), \n",
    "                 (\"Marcos Lobo\", 35, 1.80)] "
   ]
  },
  {
   "cell_type": "code",
   "execution_count": null,
   "metadata": {},
   "outputs": [],
   "source": []
  }
 ],
 "metadata": {
  "interpreter": {
   "hash": "7c77fdb427e7cbc9bc1367dd530fc2b36aacdbbde1ac83c85833b10dfa8b831c"
  },
  "kernelspec": {
   "display_name": "Python 3.7.4 64-bit",
   "name": "python3"
  },
  "language_info": {
   "codemirror_mode": {
    "name": "ipython",
    "version": 3
   },
   "file_extension": ".py",
   "mimetype": "text/x-python",
   "name": "python",
   "nbconvert_exporter": "python",
   "pygments_lexer": "ipython3",
   "version": "3.7.4"
  }
 },
 "nbformat": 4,
 "nbformat_minor": 4
}
