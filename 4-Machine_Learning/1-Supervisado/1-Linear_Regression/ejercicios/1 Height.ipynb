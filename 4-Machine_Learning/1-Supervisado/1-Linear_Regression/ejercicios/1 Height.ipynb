{
 "cells": [
  {
   "cell_type": "markdown",
   "metadata": {},
   "source": [
    "### Se pide, usando regresión lineal:\n",
    "\n",
    "Dibujar con una línea la relación que hay entre la altura y la edad de los alumnos de esta clase: \n",
    "\n",
    "- ¿Es una buena técnica para este tipo de problemas? ¿Por qué? \n",
    "- ¿Qué error se comete? Calcula los errores que está cometiendo tu modelo uno a uno (lo tienes que calcular tú con python). Aparte, usa el MSE y el RMSE. ¿Alguno es mejor para este problema?\n",
    "- Representa la matriz de correlación, ¿los datos están correlacionados?"
   ]
  },
  {
   "cell_type": "code",
   "execution_count": 1,
   "metadata": {},
   "outputs": [],
   "source": [
    "lista_alumnos = [(\"Leonardo Sánchez\", 24, 1.82), \n",
    "                 (\"Piero Termini\", 25, 1.71), \n",
    "                 (\"Silvia Pasinato\", 37, 1.63), \n",
    "                 (\"Faro Zamani\", 29, 1.90), \n",
    "                 (\"Miguel Nievas\", 27, 1.80), \n",
    "                 (\"Alejandro Medina\", 28, 1.70), \n",
    "                 (\"Cristina Martínez\", 32, 1.60), \n",
    "                 (\"Francisco Palma\", 36, 1.74), \n",
    "                 (\"Jorge Duque\", 45, 1.72), \n",
    "                 (\"Jesús Llanes\", 41, 1.65), \n",
    "                 (\"Marta Gómez\", 30, 1.65), \n",
    "                 (\"Jennifer Sanchez\", 40, 1.60), \n",
    "                 (\"Diego Isla\", 39, 1.80), \n",
    "                 (\"Antonio Campaña\", 23, 1.77), \n",
    "                 (\"Juan Maniglia\", 32, 1.75), \n",
    "                 (\"David Suárez\", 27, 1.70), \n",
    "                 (\"Antonio Jiménez\", 34, 1.80), \n",
    "                 (\"Carlos Hernández\", 27, 1.77), \n",
    "                 (\"Erik Urresta\", 28, 1.70), \n",
    "                 (\"Marcos Lobo\", 35, 1.80)] "
   ]
  },
  {
   "cell_type": "code",
   "execution_count": 15,
   "metadata": {},
   "outputs": [],
   "source": [
    "import pandas as pd\n",
    "import numpy as np\n",
    "import seaborn as sns\n",
    "\n",
    "from sklearn.linear_model import LinearRegression\n",
    "from sklearn.model_selection import train_test_split\n",
    "from sklearn.metrics import mean_squared_error, mean_absolute_error, mean_absolute_percentage_error"
   ]
  },
  {
   "cell_type": "code",
   "execution_count": 5,
   "metadata": {},
   "outputs": [
    {
     "data": {
      "text/html": [
       "<div>\n",
       "<style scoped>\n",
       "    .dataframe tbody tr th:only-of-type {\n",
       "        vertical-align: middle;\n",
       "    }\n",
       "\n",
       "    .dataframe tbody tr th {\n",
       "        vertical-align: top;\n",
       "    }\n",
       "\n",
       "    .dataframe thead th {\n",
       "        text-align: right;\n",
       "    }\n",
       "</style>\n",
       "<table border=\"1\" class=\"dataframe\">\n",
       "  <thead>\n",
       "    <tr style=\"text-align: right;\">\n",
       "      <th></th>\n",
       "      <th>Nombre</th>\n",
       "      <th>Edad</th>\n",
       "      <th>Altura</th>\n",
       "    </tr>\n",
       "  </thead>\n",
       "  <tbody>\n",
       "    <tr>\n",
       "      <th>0</th>\n",
       "      <td>Leonardo Sánchez</td>\n",
       "      <td>24</td>\n",
       "      <td>1.82</td>\n",
       "    </tr>\n",
       "    <tr>\n",
       "      <th>1</th>\n",
       "      <td>Piero Termini</td>\n",
       "      <td>25</td>\n",
       "      <td>1.71</td>\n",
       "    </tr>\n",
       "    <tr>\n",
       "      <th>2</th>\n",
       "      <td>Silvia Pasinato</td>\n",
       "      <td>37</td>\n",
       "      <td>1.63</td>\n",
       "    </tr>\n",
       "    <tr>\n",
       "      <th>3</th>\n",
       "      <td>Faro Zamani</td>\n",
       "      <td>29</td>\n",
       "      <td>1.90</td>\n",
       "    </tr>\n",
       "    <tr>\n",
       "      <th>4</th>\n",
       "      <td>Miguel Nievas</td>\n",
       "      <td>27</td>\n",
       "      <td>1.80</td>\n",
       "    </tr>\n",
       "    <tr>\n",
       "      <th>5</th>\n",
       "      <td>Alejandro Medina</td>\n",
       "      <td>28</td>\n",
       "      <td>1.70</td>\n",
       "    </tr>\n",
       "    <tr>\n",
       "      <th>6</th>\n",
       "      <td>Cristina Martínez</td>\n",
       "      <td>32</td>\n",
       "      <td>1.60</td>\n",
       "    </tr>\n",
       "    <tr>\n",
       "      <th>7</th>\n",
       "      <td>Francisco Palma</td>\n",
       "      <td>36</td>\n",
       "      <td>1.74</td>\n",
       "    </tr>\n",
       "    <tr>\n",
       "      <th>8</th>\n",
       "      <td>Jorge Duque</td>\n",
       "      <td>45</td>\n",
       "      <td>1.72</td>\n",
       "    </tr>\n",
       "    <tr>\n",
       "      <th>9</th>\n",
       "      <td>Jesús Llanes</td>\n",
       "      <td>41</td>\n",
       "      <td>1.65</td>\n",
       "    </tr>\n",
       "    <tr>\n",
       "      <th>10</th>\n",
       "      <td>Marta Gómez</td>\n",
       "      <td>30</td>\n",
       "      <td>1.65</td>\n",
       "    </tr>\n",
       "    <tr>\n",
       "      <th>11</th>\n",
       "      <td>Jennifer Sanchez</td>\n",
       "      <td>40</td>\n",
       "      <td>1.60</td>\n",
       "    </tr>\n",
       "    <tr>\n",
       "      <th>12</th>\n",
       "      <td>Diego Isla</td>\n",
       "      <td>39</td>\n",
       "      <td>1.80</td>\n",
       "    </tr>\n",
       "    <tr>\n",
       "      <th>13</th>\n",
       "      <td>Antonio Campaña</td>\n",
       "      <td>23</td>\n",
       "      <td>1.77</td>\n",
       "    </tr>\n",
       "    <tr>\n",
       "      <th>14</th>\n",
       "      <td>Juan Maniglia</td>\n",
       "      <td>32</td>\n",
       "      <td>1.75</td>\n",
       "    </tr>\n",
       "    <tr>\n",
       "      <th>15</th>\n",
       "      <td>David Suárez</td>\n",
       "      <td>27</td>\n",
       "      <td>1.70</td>\n",
       "    </tr>\n",
       "    <tr>\n",
       "      <th>16</th>\n",
       "      <td>Antonio Jiménez</td>\n",
       "      <td>34</td>\n",
       "      <td>1.80</td>\n",
       "    </tr>\n",
       "    <tr>\n",
       "      <th>17</th>\n",
       "      <td>Carlos Hernández</td>\n",
       "      <td>27</td>\n",
       "      <td>1.77</td>\n",
       "    </tr>\n",
       "    <tr>\n",
       "      <th>18</th>\n",
       "      <td>Erik Urresta</td>\n",
       "      <td>28</td>\n",
       "      <td>1.70</td>\n",
       "    </tr>\n",
       "    <tr>\n",
       "      <th>19</th>\n",
       "      <td>Marcos Lobo</td>\n",
       "      <td>35</td>\n",
       "      <td>1.80</td>\n",
       "    </tr>\n",
       "  </tbody>\n",
       "</table>\n",
       "</div>"
      ],
      "text/plain": [
       "               Nombre  Edad  Altura\n",
       "0    Leonardo Sánchez    24    1.82\n",
       "1       Piero Termini    25    1.71\n",
       "2     Silvia Pasinato    37    1.63\n",
       "3         Faro Zamani    29    1.90\n",
       "4       Miguel Nievas    27    1.80\n",
       "5    Alejandro Medina    28    1.70\n",
       "6   Cristina Martínez    32    1.60\n",
       "7     Francisco Palma    36    1.74\n",
       "8         Jorge Duque    45    1.72\n",
       "9        Jesús Llanes    41    1.65\n",
       "10        Marta Gómez    30    1.65\n",
       "11   Jennifer Sanchez    40    1.60\n",
       "12         Diego Isla    39    1.80\n",
       "13    Antonio Campaña    23    1.77\n",
       "14      Juan Maniglia    32    1.75\n",
       "15       David Suárez    27    1.70\n",
       "16    Antonio Jiménez    34    1.80\n",
       "17   Carlos Hernández    27    1.77\n",
       "18       Erik Urresta    28    1.70\n",
       "19        Marcos Lobo    35    1.80"
      ]
     },
     "execution_count": 5,
     "metadata": {},
     "output_type": "execute_result"
    }
   ],
   "source": [
    "df = pd.DataFrame(lista_alumnos, columns = ['Nombre', 'Edad', 'Altura'])\n",
    "df"
   ]
  },
  {
   "cell_type": "code",
   "execution_count": 7,
   "metadata": {},
   "outputs": [
    {
     "data": {
      "text/plain": [
       "<AxesSubplot:>"
      ]
     },
     "execution_count": 7,
     "metadata": {},
     "output_type": "execute_result"
    },
    {
     "data": {
      "image/png": "[encoded data removed]",
      "text/plain": [
       "<Figure size 432x288 with 2 Axes>"
      ]
     },
     "metadata": {
      "needs_background": "light"
     },
     "output_type": "display_data"
    }
   ],
   "source": [
    "sns.heatmap(df.corr(), annot=True)"
   ]
  },
  {
   "cell_type": "code",
   "execution_count": 10,
   "metadata": {},
   "outputs": [],
   "source": [
    "X = df[['Edad']]\n",
    "y = df[['Altura']]\n",
    "\n",
    "X_train, X_test, y_train, y_test = train_test_split(X, y , test_size = 0.2)"
   ]
  },
  {
   "cell_type": "code",
   "execution_count": 11,
   "metadata": {},
   "outputs": [
    {
     "name": "stdout",
     "output_type": "stream",
     "text": [
      "(16, 1)\n",
      "(4, 1)\n",
      "(16, 1)\n",
      "(4, 1)\n"
     ]
    }
   ],
   "source": [
    "print(X_train.shape)\n",
    "print(X_test.shape)\n",
    "print(y_train.shape)\n",
    "print(y_test.shape)"
   ]
  },
  {
   "cell_type": "code",
   "execution_count": 12,
   "metadata": {},
   "outputs": [
    {
     "data": {
      "text/plain": [
       "LinearRegression()"
      ]
     },
     "execution_count": 12,
     "metadata": {},
     "output_type": "execute_result"
    }
   ],
   "source": [
    "model = LinearRegression()\n",
    "model.fit(X_train, y_train)"
   ]
  },
  {
   "cell_type": "code",
   "execution_count": 16,
   "metadata": {},
   "outputs": [
    {
     "name": "stdout",
     "output_type": "stream",
     "text": [
      "MSE 0.013984403296134172\n",
      "RMSE 0.11825566919236545\n",
      "MAE 0.10795257488176563\n",
      "MAPE 0.05965494104738702\n"
     ]
    }
   ],
   "source": [
    "print(\"MSE\", mean_squared_error(y_test, model.predict(X_test)))\n",
    "print(\"RMSE\", np.sqrt(mean_squared_error(y_test, model.predict(X_test))))\n",
    "print(\"MAE\", mean_absolute_error(y_test, model.predict(X_test)))\n",
    "print(\"MAPE\", mean_absolute_percentage_error(y_test, model.predict(X_test)))"
   ]
  },
  {
   "cell_type": "code",
   "execution_count": 17,
   "metadata": {},
   "outputs": [
    {
     "data": {
      "text/html": [
       "<div>\n",
       "<style scoped>\n",
       "    .dataframe tbody tr th:only-of-type {\n",
       "        vertical-align: middle;\n",
       "    }\n",
       "\n",
       "    .dataframe tbody tr th {\n",
       "        vertical-align: top;\n",
       "    }\n",
       "\n",
       "    .dataframe thead th {\n",
       "        text-align: right;\n",
       "    }\n",
       "</style>\n",
       "<table border=\"1\" class=\"dataframe\">\n",
       "  <thead>\n",
       "    <tr style=\"text-align: right;\">\n",
       "      <th></th>\n",
       "      <th>Nombre</th>\n",
       "      <th>Edad</th>\n",
       "      <th>Altura</th>\n",
       "      <th>predictions</th>\n",
       "    </tr>\n",
       "  </thead>\n",
       "  <tbody>\n",
       "    <tr>\n",
       "      <th>0</th>\n",
       "      <td>Leonardo Sánchez</td>\n",
       "      <td>24</td>\n",
       "      <td>1.82</td>\n",
       "      <td>1.764496</td>\n",
       "    </tr>\n",
       "    <tr>\n",
       "      <th>1</th>\n",
       "      <td>Piero Termini</td>\n",
       "      <td>25</td>\n",
       "      <td>1.71</td>\n",
       "      <td>1.757987</td>\n",
       "    </tr>\n",
       "    <tr>\n",
       "      <th>2</th>\n",
       "      <td>Silvia Pasinato</td>\n",
       "      <td>37</td>\n",
       "      <td>1.63</td>\n",
       "      <td>1.679890</td>\n",
       "    </tr>\n",
       "    <tr>\n",
       "      <th>3</th>\n",
       "      <td>Faro Zamani</td>\n",
       "      <td>29</td>\n",
       "      <td>1.90</td>\n",
       "      <td>1.731955</td>\n",
       "    </tr>\n",
       "    <tr>\n",
       "      <th>4</th>\n",
       "      <td>Miguel Nievas</td>\n",
       "      <td>27</td>\n",
       "      <td>1.80</td>\n",
       "      <td>1.744971</td>\n",
       "    </tr>\n",
       "    <tr>\n",
       "      <th>5</th>\n",
       "      <td>Alejandro Medina</td>\n",
       "      <td>28</td>\n",
       "      <td>1.70</td>\n",
       "      <td>1.738463</td>\n",
       "    </tr>\n",
       "    <tr>\n",
       "      <th>6</th>\n",
       "      <td>Cristina Martínez</td>\n",
       "      <td>32</td>\n",
       "      <td>1.60</td>\n",
       "      <td>1.712430</td>\n",
       "    </tr>\n",
       "    <tr>\n",
       "      <th>7</th>\n",
       "      <td>Francisco Palma</td>\n",
       "      <td>36</td>\n",
       "      <td>1.74</td>\n",
       "      <td>1.686398</td>\n",
       "    </tr>\n",
       "    <tr>\n",
       "      <th>8</th>\n",
       "      <td>Jorge Duque</td>\n",
       "      <td>45</td>\n",
       "      <td>1.72</td>\n",
       "      <td>1.627824</td>\n",
       "    </tr>\n",
       "    <tr>\n",
       "      <th>9</th>\n",
       "      <td>Jesús Llanes</td>\n",
       "      <td>41</td>\n",
       "      <td>1.65</td>\n",
       "      <td>1.653857</td>\n",
       "    </tr>\n",
       "    <tr>\n",
       "      <th>10</th>\n",
       "      <td>Marta Gómez</td>\n",
       "      <td>30</td>\n",
       "      <td>1.65</td>\n",
       "      <td>1.725447</td>\n",
       "    </tr>\n",
       "    <tr>\n",
       "      <th>11</th>\n",
       "      <td>Jennifer Sanchez</td>\n",
       "      <td>40</td>\n",
       "      <td>1.60</td>\n",
       "      <td>1.660365</td>\n",
       "    </tr>\n",
       "    <tr>\n",
       "      <th>12</th>\n",
       "      <td>Diego Isla</td>\n",
       "      <td>39</td>\n",
       "      <td>1.80</td>\n",
       "      <td>1.666873</td>\n",
       "    </tr>\n",
       "    <tr>\n",
       "      <th>13</th>\n",
       "      <td>Antonio Campaña</td>\n",
       "      <td>23</td>\n",
       "      <td>1.77</td>\n",
       "      <td>1.771004</td>\n",
       "    </tr>\n",
       "    <tr>\n",
       "      <th>14</th>\n",
       "      <td>Juan Maniglia</td>\n",
       "      <td>32</td>\n",
       "      <td>1.75</td>\n",
       "      <td>1.712430</td>\n",
       "    </tr>\n",
       "    <tr>\n",
       "      <th>15</th>\n",
       "      <td>David Suárez</td>\n",
       "      <td>27</td>\n",
       "      <td>1.70</td>\n",
       "      <td>1.744971</td>\n",
       "    </tr>\n",
       "    <tr>\n",
       "      <th>16</th>\n",
       "      <td>Antonio Jiménez</td>\n",
       "      <td>34</td>\n",
       "      <td>1.80</td>\n",
       "      <td>1.699414</td>\n",
       "    </tr>\n",
       "    <tr>\n",
       "      <th>17</th>\n",
       "      <td>Carlos Hernández</td>\n",
       "      <td>27</td>\n",
       "      <td>1.77</td>\n",
       "      <td>1.744971</td>\n",
       "    </tr>\n",
       "    <tr>\n",
       "      <th>18</th>\n",
       "      <td>Erik Urresta</td>\n",
       "      <td>28</td>\n",
       "      <td>1.70</td>\n",
       "      <td>1.738463</td>\n",
       "    </tr>\n",
       "    <tr>\n",
       "      <th>19</th>\n",
       "      <td>Marcos Lobo</td>\n",
       "      <td>35</td>\n",
       "      <td>1.80</td>\n",
       "      <td>1.692906</td>\n",
       "    </tr>\n",
       "  </tbody>\n",
       "</table>\n",
       "</div>"
      ],
      "text/plain": [
       "               Nombre  Edad  Altura  predictions\n",
       "0    Leonardo Sánchez    24    1.82     1.764496\n",
       "1       Piero Termini    25    1.71     1.757987\n",
       "2     Silvia Pasinato    37    1.63     1.679890\n",
       "3         Faro Zamani    29    1.90     1.731955\n",
       "4       Miguel Nievas    27    1.80     1.744971\n",
       "5    Alejandro Medina    28    1.70     1.738463\n",
       "6   Cristina Martínez    32    1.60     1.712430\n",
       "7     Francisco Palma    36    1.74     1.686398\n",
       "8         Jorge Duque    45    1.72     1.627824\n",
       "9        Jesús Llanes    41    1.65     1.653857\n",
       "10        Marta Gómez    30    1.65     1.725447\n",
       "11   Jennifer Sanchez    40    1.60     1.660365\n",
       "12         Diego Isla    39    1.80     1.666873\n",
       "13    Antonio Campaña    23    1.77     1.771004\n",
       "14      Juan Maniglia    32    1.75     1.712430\n",
       "15       David Suárez    27    1.70     1.744971\n",
       "16    Antonio Jiménez    34    1.80     1.699414\n",
       "17   Carlos Hernández    27    1.77     1.744971\n",
       "18       Erik Urresta    28    1.70     1.738463\n",
       "19        Marcos Lobo    35    1.80     1.692906"
      ]
     },
     "execution_count": 17,
     "metadata": {},
     "output_type": "execute_result"
    }
   ],
   "source": [
    "df['predictions'] = model.predict(X)\n",
    "df"
   ]
  },
  {
   "cell_type": "code",
   "execution_count": 19,
   "metadata": {},
   "outputs": [
    {
     "name": "stderr",
     "output_type": "stream",
     "text": [
      "C:\\Users\\Miguel Angel\\AppData\\Local\\Programs\\Python\\Python37\\lib\\site-packages\\sklearn\\base.py:442: UserWarning: X does not have valid feature names, but LinearRegression was fitted with feature names\n",
      "  \"X does not have valid feature names, but\"\n"
     ]
    },
    {
     "data": {
      "text/plain": [
       "array([[1.69290594]])"
      ]
     },
     "execution_count": 19,
     "metadata": {},
     "output_type": "execute_result"
    }
   ],
   "source": [
    "model.predict([[35]])"
   ]
  },
  {
   "cell_type": "code",
   "execution_count": null,
   "metadata": {},
   "outputs": [],
   "source": []
  }
 ],
 "metadata": {
  "interpreter": {
   "hash": "7c77fdb427e7cbc9bc1367dd530fc2b36aacdbbde1ac83c85833b10dfa8b831c"
  },
  "kernelspec": {
   "display_name": "Python 3.7.4 64-bit",
   "name": "python3"
  },
  "language_info": {
   "codemirror_mode": {
    "name": "ipython",
    "version": 3
   },
   "file_extension": ".py",
   "mimetype": "text/x-python",
   "name": "python",
   "nbconvert_exporter": "python",
   "pygments_lexer": "ipython3",
   "version": "3.7.4"
  }
 },
 "nbformat": 4,
 "nbformat_minor": 4
}
