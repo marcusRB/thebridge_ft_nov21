{
 "cells": [
  {
   "cell_type": "markdown",
   "metadata": {},
   "source": [
    "# AWS - RDS MySQL\n",
    "### Paquetes requeridos\n",
    "Librería de Python necesaria para establecer conexión a una base de datos MySQL"
   ]
  },
  {
   "cell_type": "code",
   "execution_count": 1,
   "metadata": {},
   "outputs": [
    {
     "name": "stdout",
     "output_type": "stream",
     "text": [
      "Requirement already satisfied: PyMySQL in c:\\users\\alber\\anaconda3\\lib\\site-packages (1.0.2)\n"
     ]
    }
   ],
   "source": [
    "#!pip install PyMySQL"
   ]
  },
  {
   "cell_type": "markdown",
   "metadata": {},
   "source": [
    "### Credenciales\n",
    "Para acceder a la BD necesitaremos tres datos:\n",
    "1. Endpoint/host: la dirección donde se encuentra el servidor\n",
    "2. Usuario\n",
    "3. Contraseña"
   ]
  },
  {
   "cell_type": "code",
   "execution_count": 10,
   "metadata": {},
   "outputs": [],
   "source": [
    "db_name = \"database-1\"\n",
    "username = \"admin\"\n",
    "password = \"admin2021\"\n",
    "host = \"database-1.ckazj8ut3bmc.us-east-2.rds.amazonaws.com\"\n",
    "port = 3306"
   ]
  },
  {
   "cell_type": "markdown",
   "metadata": {},
   "source": [
    "### Conexion BD"
   ]
  },
  {
   "cell_type": "code",
   "execution_count": 11,
   "metadata": {},
   "outputs": [],
   "source": [
    "import pymysql"
   ]
  },
  {
   "cell_type": "code",
   "execution_count": 12,
   "metadata": {},
   "outputs": [],
   "source": [
    "'''\n",
    "pymysql.cursors.DictCursor para que los resultados que devuelva sean diccionarios,\n",
    "por defecto devuelve tuplas. Asi podemos acceder por clave a las columnas.\n",
    "'''\n",
    "db = pymysql.connect(host=host,\n",
    "                     user=username,\n",
    "                     password=password,\n",
    "                     cursorclass=pymysql.cursors.DictCursor)\n",
    "\n",
    "# El objeto cursor es el que ejecutará las queries y devolverá los resultados\n",
    "\n",
    "cursor = db.cursor()"
   ]
  },
  {
   "cell_type": "markdown",
   "metadata": {},
   "source": [
    "### Version DB"
   ]
  },
  {
   "cell_type": "code",
   "execution_count": 13,
   "metadata": {},
   "outputs": [
    {
     "name": "stdout",
     "output_type": "stream",
     "text": [
      "MySQL instance version: {'VERSION()': '8.0.23'}\n"
     ]
    }
   ],
   "source": [
    "'''\n",
    "Este es el engine version de la BD de AWS\n",
    "fechtone trae la primera linea de la consulta\n",
    "El execute() devuelve el numero de filas a las que ha afectado la query,\n",
    "en este caso, devuelve una unica fila.\n",
    "\n",
    "Execute se guarda en la conexion pero hasta que no hacemos commit\n",
    "no se ejecutan las queries\n",
    "de insert de datos y esas cosas...\n",
    "'''\n",
    "\n",
    "cursor.execute('SELECT VERSION()')\n",
    "version = cursor.fetchone()\n",
    "print(f'MySQL instance version: {version}')"
   ]
  },
  {
   "cell_type": "markdown",
   "metadata": {},
   "source": [
    "### Creación de DB"
   ]
  },
  {
   "cell_type": "code",
   "execution_count": 7,
   "metadata": {},
   "outputs": [
    {
     "data": {
      "text/plain": [
       "1"
      ]
     },
     "execution_count": 7,
     "metadata": {},
     "output_type": "execute_result"
    }
   ],
   "source": [
    "# Creamos una BD. Tenemos una instancia de MySQL, pero no una BD\n",
    "# Los comandos de SQL  se suelen poner en mayuscula\n",
    "create_db = '''CREATE DATABASE country_database'''\n",
    "cursor.execute(create_db)\n",
    "\n",
    "# Podemos eliminar la BD\n",
    "delete_db = '''DROP DATABASE country_database'''\n",
    "cursor.execute(delete_db)\n",
    "\n",
    "# La volvemos a crear\n",
    "cursor.execute(create_db)\n",
    "# el output es el numero de filas afectadas"
   ]
  },
  {
   "cell_type": "code",
   "execution_count": 14,
   "metadata": {},
   "outputs": [
    {
     "data": {
      "text/plain": [
       "[{'Database': 'country_database'},\n",
       " {'Database': 'information_schema'},\n",
       " {'Database': 'mysql'},\n",
       " {'Database': 'performance_schema'},\n",
       " {'Database': 'sys'}]"
      ]
     },
     "execution_count": 14,
     "metadata": {},
     "output_type": "execute_result"
    }
   ],
   "source": [
    "cursor.execute('SHOW DATABASES')\n",
    "cursor.fetchall()"
   ]
  },
  {
   "cell_type": "markdown",
   "metadata": {},
   "source": [
    "### Creación de tablas"
   ]
  },
  {
   "cell_type": "code",
   "execution_count": 17,
   "metadata": {},
   "outputs": [
    {
     "data": {
      "text/plain": [
       "0"
      ]
     },
     "execution_count": 17,
     "metadata": {},
     "output_type": "execute_result"
    }
   ],
   "source": [
    "'''\n",
    "Creamos una tabla\n",
    "Esto da error porque no le hemos dicho al servidor qué BD\n",
    "queremos usar\n",
    "\n",
    "'''\n",
    "\n",
    "\n",
    "# crear una tabla que se llame country\n",
    "create_table = '''\n",
    "CREATE TABLE country (\n",
    "id INT NOT NULL auto_increment,\n",
    "name TEXT,\n",
    "continent TEXT,\n",
    "population INT,\n",
    "gdp DOUBLE,\n",
    "primary key (id)\n",
    ")\n",
    "'''\n",
    "\n",
    "cursor.execute(create_table)"
   ]
  },
  {
   "cell_type": "markdown",
   "metadata": {},
   "source": [
    "### Seleccionar la BD"
   ]
  },
  {
   "cell_type": "code",
   "execution_count": 16,
   "metadata": {},
   "outputs": [
    {
     "data": {
      "text/plain": [
       "0"
      ]
     },
     "execution_count": 16,
     "metadata": {},
     "output_type": "execute_result"
    }
   ],
   "source": [
    "# Para usar la BD  recien creada\n",
    "\n",
    "cursor.connection.commit()\n",
    "use_db = ''' USE country_database'''\n",
    "cursor.execute(use_db)"
   ]
  },
  {
   "cell_type": "code",
   "execution_count": 18,
   "metadata": {},
   "outputs": [
    {
     "data": {
      "text/plain": [
       "[{'Tables_in_country_database': 'country'}]"
      ]
     },
     "execution_count": 18,
     "metadata": {},
     "output_type": "execute_result"
    }
   ],
   "source": [
    "# checkear todas las tablas que tiene mi db\n",
    "cursor.execute('SHOW TABLES')\n",
    "cursor.fetchall()"
   ]
  },
  {
   "cell_type": "code",
   "execution_count": null,
   "metadata": {},
   "outputs": [],
   "source": [
    "\"\"\"\n",
    "Si queremos borrar alguna tabla\n",
    "\n",
    "drop_table = '''DROP TABLE country'''\n",
    "cursor.execute(drop_table)\n",
    "\n",
    "\"\"\""
   ]
  },
  {
   "cell_type": "markdown",
   "metadata": {},
   "source": [
    "### Insertar datos"
   ]
  },
  {
   "cell_type": "code",
   "execution_count": 19,
   "metadata": {},
   "outputs": [
    {
     "data": {
      "text/plain": [
       "1"
      ]
     },
     "execution_count": 19,
     "metadata": {},
     "output_type": "execute_result"
    }
   ],
   "source": [
    "insert_data = '''\n",
    "INSERT INTO country (name, continent, population, gdp)\\\n",
    "                    values('%s', '%s', '%s', '%s')''' % ('Spain', 'Europe', 47, 1.4)\n",
    "\n",
    "cursor.execute(insert_data)\n"
   ]
  },
  {
   "cell_type": "markdown",
   "metadata": {},
   "source": [
    "### Leer datos"
   ]
  },
  {
   "cell_type": "code",
   "execution_count": 20,
   "metadata": {},
   "outputs": [
    {
     "data": {
      "text/plain": [
       "1"
      ]
     },
     "execution_count": 20,
     "metadata": {},
     "output_type": "execute_result"
    }
   ],
   "source": [
    "sql = '''SELECT * FROM country'''\n",
    "cursor.execute(sql)"
   ]
  },
  {
   "cell_type": "code",
   "execution_count": 21,
   "metadata": {},
   "outputs": [
    {
     "data": {
      "text/plain": [
       "[{'id': 1,\n",
       "  'name': 'Spain',\n",
       "  'continent': 'Europe',\n",
       "  'population': 47,\n",
       "  'gdp': 1.4}]"
      ]
     },
     "execution_count": 21,
     "metadata": {},
     "output_type": "execute_result"
    }
   ],
   "source": [
    "cursor.fetchall()"
   ]
  },
  {
   "cell_type": "markdown",
   "metadata": {},
   "source": [
    "### Guardar los cambios\n",
    "Hay que ejecutar el commit antes de cerrar la sesión de la BD para que se guarden todos los cambios"
   ]
  },
  {
   "cell_type": "code",
   "execution_count": 22,
   "metadata": {},
   "outputs": [],
   "source": [
    "db.commit()"
   ]
  },
  {
   "cell_type": "markdown",
   "metadata": {},
   "source": [
    "### Excepciones\n",
    "Se recomienda rodear este tipo de sentencias con un try/except, ya que suele ser software productivo y tiene que saber manejar fallos"
   ]
  },
  {
   "cell_type": "code",
   "execution_count": 23,
   "metadata": {},
   "outputs": [],
   "source": [
    "try:\n",
    "    sql = '''SELECT * FROM country'''\n",
    "    cursor.execute(sql)\n",
    "    cursor.fetchall()\n",
    "except Exception as e:\n",
    "    print(e)"
   ]
  },
  {
   "cell_type": "markdown",
   "metadata": {},
   "source": [
    "### Insertar datos de un CSV"
   ]
  },
  {
   "cell_type": "code",
   "execution_count": 24,
   "metadata": {},
   "outputs": [],
   "source": [
    "# Creamos el CSV\n",
    "import pandas as pd\n",
    "\n",
    "df = pd.DataFrame({\n",
    "    'name': ['France', 'Japan', 'Argentina', 'Brasil'],\n",
    "    'continent': ['Europe', 'Asia', 'America', 'America'],\n",
    "    'population': [70, 126, 44, 209],\n",
    "    'gdp': [2.7, 4.9, 0.5, 1.8]\n",
    "})\n",
    "\n",
    "df.to_csv('country_data.csv', sep=';', index=False)"
   ]
  },
  {
   "cell_type": "code",
   "execution_count": 25,
   "metadata": {},
   "outputs": [
    {
     "data": {
      "text/html": [
       "<div>\n",
       "<style scoped>\n",
       "    .dataframe tbody tr th:only-of-type {\n",
       "        vertical-align: middle;\n",
       "    }\n",
       "\n",
       "    .dataframe tbody tr th {\n",
       "        vertical-align: top;\n",
       "    }\n",
       "\n",
       "    .dataframe thead th {\n",
       "        text-align: right;\n",
       "    }\n",
       "</style>\n",
       "<table border=\"1\" class=\"dataframe\">\n",
       "  <thead>\n",
       "    <tr style=\"text-align: right;\">\n",
       "      <th></th>\n",
       "      <th>name</th>\n",
       "      <th>continent</th>\n",
       "      <th>population</th>\n",
       "      <th>gdp</th>\n",
       "    </tr>\n",
       "  </thead>\n",
       "  <tbody>\n",
       "    <tr>\n",
       "      <th>0</th>\n",
       "      <td>France</td>\n",
       "      <td>Europe</td>\n",
       "      <td>70</td>\n",
       "      <td>2.7</td>\n",
       "    </tr>\n",
       "    <tr>\n",
       "      <th>1</th>\n",
       "      <td>Japan</td>\n",
       "      <td>Asia</td>\n",
       "      <td>126</td>\n",
       "      <td>4.9</td>\n",
       "    </tr>\n",
       "    <tr>\n",
       "      <th>2</th>\n",
       "      <td>Argentina</td>\n",
       "      <td>America</td>\n",
       "      <td>44</td>\n",
       "      <td>0.5</td>\n",
       "    </tr>\n",
       "    <tr>\n",
       "      <th>3</th>\n",
       "      <td>Brasil</td>\n",
       "      <td>America</td>\n",
       "      <td>209</td>\n",
       "      <td>1.8</td>\n",
       "    </tr>\n",
       "  </tbody>\n",
       "</table>\n",
       "</div>"
      ],
      "text/plain": [
       "        name continent  population  gdp\n",
       "0     France    Europe          70  2.7\n",
       "1      Japan      Asia         126  4.9\n",
       "2  Argentina   America          44  0.5\n",
       "3     Brasil   America         209  1.8"
      ]
     },
     "execution_count": 25,
     "metadata": {},
     "output_type": "execute_result"
    }
   ],
   "source": [
    "# leemos los datos\n",
    "df = pd.read_csv('country_data.csv', sep=';')\n",
    "df.head()"
   ]
  },
  {
   "cell_type": "code",
   "execution_count": 26,
   "metadata": {},
   "outputs": [
    {
     "name": "stdout",
     "output_type": "stream",
     "text": [
      "Requirement already satisfied: sqlalchemy in c:\\users\\alber\\anaconda3\\lib\\site-packages (1.4.25)\n",
      "Requirement already satisfied: greenlet!=0.4.17 in c:\\users\\alber\\anaconda3\\lib\\site-packages (from sqlalchemy) (1.1.1)\n"
     ]
    }
   ],
   "source": [
    "!pip install sqlalchemy --upgrade "
   ]
  },
  {
   "cell_type": "code",
   "execution_count": 28,
   "metadata": {},
   "outputs": [],
   "source": [
    "from sqlalchemy import create_engine\n",
    "\n",
    "# create sqlalchemy engine\n",
    "engine = create_engine(\"mysql+pymysql://{user}:{pw}@{host}/{db}\"\n",
    "                       .format(user=username,\n",
    "                               host=host,\n",
    "                               pw=password,\n",
    "                               db=\"country_database\"))\n"
   ]
  },
  {
   "cell_type": "code",
   "execution_count": 29,
   "metadata": {},
   "outputs": [],
   "source": [
    "# insertamos todo el dataframe\n",
    "df.to_sql('country',\n",
    "          con= engine,\n",
    "          if_exists = 'append',\n",
    "          chunksize = 1000,\n",
    "          index= False)"
   ]
  },
  {
   "cell_type": "code",
   "execution_count": 30,
   "metadata": {},
   "outputs": [],
   "source": [
    "db.commit()"
   ]
  },
  {
   "cell_type": "code",
   "execution_count": 31,
   "metadata": {},
   "outputs": [
    {
     "data": {
      "text/plain": [
       "[{'id': 1,\n",
       "  'name': 'Spain',\n",
       "  'continent': 'Europe',\n",
       "  'population': 47,\n",
       "  'gdp': 1.4},\n",
       " {'id': 2,\n",
       "  'name': 'France',\n",
       "  'continent': 'Europe',\n",
       "  'population': 70,\n",
       "  'gdp': 2.7},\n",
       " {'id': 3,\n",
       "  'name': 'Japan',\n",
       "  'continent': 'Asia',\n",
       "  'population': 126,\n",
       "  'gdp': 4.9},\n",
       " {'id': 4,\n",
       "  'name': 'Argentina',\n",
       "  'continent': 'America',\n",
       "  'population': 44,\n",
       "  'gdp': 0.5},\n",
       " {'id': 5,\n",
       "  'name': 'Brasil',\n",
       "  'continent': 'America',\n",
       "  'population': 209,\n",
       "  'gdp': 1.8}]"
      ]
     },
     "execution_count": 31,
     "metadata": {},
     "output_type": "execute_result"
    }
   ],
   "source": [
    "# leemos los datos para comprobar que se han ingestado correctamente\n",
    "sql = '''SELECT * FROM country'''\n",
    "cursor.execute(sql)\n",
    "cursor.fetchall()"
   ]
  },
  {
   "cell_type": "markdown",
   "metadata": {},
   "source": [
    "### Cerrar la conexión cuando acabemos"
   ]
  },
  {
   "cell_type": "code",
   "execution_count": 32,
   "metadata": {},
   "outputs": [],
   "source": [
    "db.close()"
   ]
  }
 ],
 "metadata": {
  "kernelspec": {
   "display_name": "Python 3 (ipykernel)",
   "language": "python",
   "name": "python3"
  },
  "language_info": {
   "codemirror_mode": {
    "name": "ipython",
    "version": 3
   },
   "file_extension": ".py",
   "mimetype": "text/x-python",
   "name": "python",
   "nbconvert_exporter": "python",
   "pygments_lexer": "ipython3",
   "version": "3.8.8"
  }
 },
 "nbformat": 4,
 "nbformat_minor": 4
}
