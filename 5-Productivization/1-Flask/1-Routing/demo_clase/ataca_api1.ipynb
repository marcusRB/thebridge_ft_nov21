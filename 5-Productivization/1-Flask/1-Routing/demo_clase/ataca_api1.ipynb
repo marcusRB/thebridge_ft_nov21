{
 "cells": [
  {
   "cell_type": "code",
   "execution_count": 3,
   "metadata": {},
   "outputs": [
    {
     "name": "stdout",
     "output_type": "stream",
     "text": [
      "<Response [200]>\n",
      "{\n",
      "  \"author\": \"Vernor Vinge\", \n",
      "  \"first_sentence\": \"The coldsleep itself was dreamless.\", \n",
      "  \"id\": 0, \n",
      "  \"title\": \"A Fire Upon the Deep\", \n",
      "  \"year_published\": \"1992\"\n",
      "}\n",
      "\n"
     ]
    }
   ],
   "source": [
    "import requests\n",
    "root_path = \"http://127.0.0.1:5000\"\n",
    "\n",
    "path = \"/api/v2/resources/book\"\n",
    "\n",
    "content = {'id': 0}\n",
    "\n",
    "response = requests.get(url = root_path + path, json = content)\n",
    "print(response)\n",
    "print(response.text)"
   ]
  },
  {
   "cell_type": "code",
   "execution_count": 4,
   "metadata": {},
   "outputs": [
    {
     "name": "stdout",
     "output_type": "stream",
     "text": [
      "<Response [200]>\n",
      "{\n",
      "  \"author\": \"Author\", \n",
      "  \"first_sentence\": \"Once upon a time...\", \n",
      "  \"id\": 4, \n",
      "  \"title\": \"Red Little Riding Hood\", \n",
      "  \"year_published\": \"1810\"\n",
      "}\n",
      "\n"
     ]
    }
   ],
   "source": [
    "path = '/api/v1/resources/book'\n",
    "\n",
    "new_book = {\n",
    "    \"author\": \"Author\",\n",
    "    \"first_sentence\": \"Once upon a time...\",\n",
    "    \"id\":4,\n",
    "    \"title\": \"Red Little Riding Hood\",\n",
    "    \"year_published\": \"1810\"\n",
    "}\n",
    "\n",
    "response = requests.post(url= root_path + path, json = new_book)\n",
    "print(response)\n",
    "print(response.text)\n",
    "\n"
   ]
  }
 ],
 "metadata": {
  "interpreter": {
   "hash": "684b1123683431d89d3bfe9a89cc763215f4b8cd94b4aba1fb40ad45ff7c8b41"
  },
  "kernelspec": {
   "display_name": "Python 3.7.4 64-bit",
   "language": "python",
   "name": "python3"
  },
  "language_info": {
   "codemirror_mode": {
    "name": "ipython",
    "version": 3
   },
   "file_extension": ".py",
   "mimetype": "text/x-python",
   "name": "python",
   "nbconvert_exporter": "python",
   "pygments_lexer": "ipython3",
   "version": "3.7.4"
  },
  "orig_nbformat": 4
 },
 "nbformat": 4,
 "nbformat_minor": 2
}
